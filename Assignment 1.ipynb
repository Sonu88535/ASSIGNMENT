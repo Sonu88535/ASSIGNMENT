{
 "cells": [
  {
   "cell_type": "raw",
   "id": "2787b5cc-40bd-42c0-84a4-804591e61f72",
   "metadata": {},
   "source": [
    "Q1) Who developed python programming language ?\n",
    "ANS-Guido van Rossum is a Dutch programmer best known as the creator of the Python programming language."
   ]
  },
  {
   "cell_type": "raw",
   "id": "b9896932-af2d-41a7-97c6-4ec0a28434ea",
   "metadata": {},
   "source": [
    "Q2)Which type of programming does python support?\n",
    "ANS-There are 5 type of programming does python support'\n",
    "1. Procedural programming languages\n",
    "2. Functional programming languages\n",
    "3. Object-oriented programming languages\n",
    "4. Scripting languages\n",
    "5. Logic programming languages\n"
   ]
  },
  {
   "cell_type": "raw",
   "id": "4b061cc1-b05b-473c-b0d2-b3a0e1f168ea",
   "metadata": {},
   "source": [
    "Q3)Is python is case sensitive when dealing with identifiers?\n",
    "ANS-Yes, Python is a case-sensitive language, i.e., it treats uppercase and lowercase characters differently. This applies to identifiers too. We must avoid using the same name with different cases while naming identifiers\n"
   ]
  },
  {
   "cell_type": "raw",
   "id": "0a598723-20e2-4b35-8026-03d01bab73c9",
   "metadata": {},
   "source": [
    "Q4)What is correct extension of python file?\n",
    "ANS-The correct extension of python file is  .py"
   ]
  },
  {
   "cell_type": "code",
   "execution_count": null,
   "id": "7385b03d-0d42-41fa-9e48-01467d1ebeef",
   "metadata": {},
   "outputs": [],
   "source": [
    "Is python code complied  or interpreted?\n",
    "Python is both compiled as well as an interpreted language, which means when we run a python code, it is first compiled and then interpreted line by line."
   ]
  },
  {
   "cell_type": "raw",
   "id": "b85629a3-101c-4a64-98ac-a583e5d650a7",
   "metadata": {},
   "source": [
    "Q5)Name a few blocks of code used to defind in python language ?\n",
    "ANS-The following are blocks: a module, a function body, and a class definition. Each command typed interactively is a block."
   ]
  },
  {
   "cell_type": "raw",
   "id": "3a5ecfcf-e5e9-459b-81ec-aa6670ca5649",
   "metadata": {},
   "source": [
    "Q6)State  a character used to give single - line commands in python ?\n",
    "ANS-Hash character(#) is used to comment the line in the Python program"
   ]
  },
  {
   "cell_type": "raw",
   "id": "5cc52fc0-ab42-494d-babd-a4776b613192",
   "metadata": {},
   "source": [
    "Q7)Mention function which can help us to find the version of python  that we are currently working on?\n",
    "ANS-The function sys.version can help us to find the version of python that we are currently working on."
   ]
  },
  {
   "cell_type": "raw",
   "id": "e1f221b0-636a-484d-ae01-c80c8fd936e1",
   "metadata": {},
   "source": [
    "Q8)Pyhton support the creation of anonymous  functiom at runtime, using a construct called ________.\n",
    "ANS- Lambda"
   ]
  },
  {
   "cell_type": "raw",
   "id": "e856ae96-bb4a-4a2a-bd75-ac65a5d7542c",
   "metadata": {},
   "source": [
    "Q9)What does pip stand for python?\n",
    "ANS-Pip stand for  preferred installer program."
   ]
  },
  {
   "cell_type": "raw",
   "id": "92b90734-1de5-476f-b408-8917bd4a6fe8",
   "metadata": {},
   "source": [
    "Q10)Mention a few built-in fucntion in python?\n",
    "ANS-Few built-in function are\n",
    "     print( ) function.\n",
    "     type( ) function.\n",
    "     input( ) function.\n",
    "     abs( ) function.\n",
    "    pow( ) function.\n",
    "    dir( ) function.\n",
    "    sorted( ) function.\n",
    "    max( ) function."
   ]
  },
  {
   "cell_type": "raw",
   "id": "7c3c8c02-503a-4498-9e92-6de16845c90d",
   "metadata": {},
   "source": [
    "Q11)What is the maximum possible length of an identifer in python?\n",
    "ANS-An identifier can have a maximum length of 79 characters in Python."
   ]
  },
  {
   "cell_type": "raw",
   "id": "d801cdc7-c1ff-4cca-aed2-16a6a5e40be0",
   "metadata": {},
   "source": [
    "Q12)What are the benefits of using Python?\n",
    "ANS-Python is commonly used for developing websites and software, task automation, data analysis, and data visualization.\n",
    "Top reason to learn python\n",
    "1.Date science\n",
    "2.Scientific and mathematical computing\n",
    "3.Web development \n",
    "4.Finance and trading\n",
    "5.System automation and administration\n",
    "5.Computer  graphics\n"
   ]
  },
  {
   "cell_type": "raw",
   "id": "81fa4841-ebfa-4c4e-9e85-5bf17ee0f7b7",
   "metadata": {},
   "source": [
    "Q13)How is memory managed in python?\n",
    "ANS-Python uses a portion of the memory for internal use and non-object memory. Another part of the memory is used for Python object such as int, dict, list, etc. CPython contains the object allocator that allocates memory within the object area. The object allocator gets a call every time the new object needs space."
   ]
  },
  {
   "cell_type": "raw",
   "id": "dc4a0f20-db50-46b7-ba45-e8911fecc67a",
   "metadata": {},
   "source": [
    "Q14)How to install python on window and set path variable ?\n",
    "ANS-Installing Python on Windows and setting the path variable is quite straightforward. \n",
    "First, need to download the latest version of Python . Once the download is complete, find the installer file and double click it to start the installation process. \n",
    "Once the installation is complete, you need to set the environment variables. To do this, go to the Control Panel and navigate to the System and Security section. Select the Advanced system settings. In the window that appears, select Environment Variables. \n",
    "Under the System variables section, select the Path variable and click Edit. In the window that appears, you will be able to add a new path to the variable. Add the folder location of your Python installation. Generally, this is located in C:\\Program Files\\Python.\n",
    "Finally, click OK and close the environment variable window. The Python installation is complete and the path variable is set."
   ]
  },
  {
   "cell_type": "raw",
   "id": "5306372c-1b7e-4166-a9a0-86878eac5f23",
   "metadata": {},
   "source": [
    "Q15)Is identification required in python?\n",
    "ANS-Yes, identification is required in Python when accessing any type of data. Identification is the process of verifying that an individual or entity is who they say they are. This is done by using an identifier, such as a name, email address, or even an IP address, that is associated with the user.\n",
    "\n",
    "In Python, there are several different methods of identification that can be used, such as passwords, two-factor authentication, biometric scans, and more. It is important to use an identification method that is secure and reliable. Python offers a wide range of security measures that can help protect the data and the user's identity.\n",
    "\n"
   ]
  }
 ],
 "metadata": {
  "kernelspec": {
   "display_name": "Python 3 (ipykernel)",
   "language": "python",
   "name": "python3"
  },
  "language_info": {
   "codemirror_mode": {
    "name": "ipython",
    "version": 3
   },
   "file_extension": ".py",
   "mimetype": "text/x-python",
   "name": "python",
   "nbconvert_exporter": "python",
   "pygments_lexer": "ipython3",
   "version": "3.10.8"
  }
 },
 "nbformat": 4,
 "nbformat_minor": 5
}
