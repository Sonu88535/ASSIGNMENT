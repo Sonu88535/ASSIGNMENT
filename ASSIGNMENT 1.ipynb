{
 "cells": [
  {
   "cell_type": "code",
   "execution_count": null,
   "id": "126bc844-f345-4255-9bf5-f12b642c1f48",
   "metadata": {},
   "outputs": [],
   "source": [
    "Q1) Who developed python programming language ?\n",
    "ANS-Guido van Rossum is a Dutch programmer best known as the creator of the Python programming language."
   ]
  },
  {
   "cell_type": "code",
   "execution_count": null,
   "id": "4f42e29d-899f-4473-b3db-06bd5b712495",
   "metadata": {},
   "outputs": [],
   "source": [
    "Q2)Which type of programming does python support?\n",
    "ANS-There are 5 type of programming does python support'\n",
    "1. Procedural programming languages\n",
    "2. Functional programming languages\n",
    "3. Object-oriented programming languages\n",
    "4. Scripting languages\n",
    "5. Logic programming languages\n"
   ]
  },
  {
   "cell_type": "code",
   "execution_count": null,
   "id": "83ededc6-f290-4a2b-9b28-95f8890d2667",
   "metadata": {},
   "outputs": [],
   "source": [
    "Q3)Is python is case sensitive when dealing with identifiers?\n",
    "ANS-Yes, Python is a case-sensitive language, i.e., it treats uppercase and lowercase characters differently. This applies to identifiers too. We must avoid using the same name with different cases while naming identifiers\n"
   ]
  },
  {
   "cell_type": "code",
   "execution_count": null,
   "id": "8402639e-ec70-4b08-b896-5cdd87b9923b",
   "metadata": {},
   "outputs": [],
   "source": [
    "Q4)What is correct extension of python file?\n",
    "ANS-The correct extension of python file is  .py"
   ]
  },
  {
   "cell_type": "code",
   "execution_count": null,
   "id": "7385b03d-0d42-41fa-9e48-01467d1ebeef",
   "metadata": {},
   "outputs": [],
   "source": [
    "Q5)Is python code complied  or interpreted?\n",
    "ANS-Python is both compiled as well as an interpreted language, which means when we run a python code, it is first compiled and then interpreted line by line."
   ]
  },
  {
   "cell_type": "code",
   "execution_count": null,
   "id": "b1706d8b-cc45-44fb-bc8e-602375979d63",
   "metadata": {},
   "outputs": [],
   "source": [
    "Q6)Name a few blocks of code used to defind in python language ?\n",
    "ANS-The following are blocks: a module, a function body, and a class definition. Each command typed interactively is a block."
   ]
  },
  {
   "cell_type": "code",
   "execution_count": null,
   "id": "d5b06ad4-be76-490b-828b-755b7cf9c3f6",
   "metadata": {},
   "outputs": [],
   "source": [
    "Q7)State  a character used to give single - line commands in python ?\n",
    "ANS-Hash character(#) is used to comment the line in the Python program\n"
   ]
  },
  {
   "cell_type": "code",
   "execution_count": null,
   "id": "ae7c66ac-2821-4364-9150-082d7673c389",
   "metadata": {},
   "outputs": [],
   "source": [
    "Q8)Mention function which can help us to find the version of python  that we are currently working on?\n",
    "ANS-The function sys.version can help us to find the version of python that we are currently working on."
   ]
  },
  {
   "cell_type": "code",
   "execution_count": null,
   "id": "83bed5b9-e07f-4501-a44b-66307f705eca",
   "metadata": {},
   "outputs": [],
   "source": [
    "Q9)Pyhton support the creation of anonymous  functiom at runtime, using a construct called ________.\n",
    "ANS- Lambda"
   ]
  },
  {
   "cell_type": "code",
   "execution_count": null,
   "id": "e85d722a-8daa-4d06-b3d5-f648ab6ac3c5",
   "metadata": {},
   "outputs": [],
   "source": [
    "Q10)What does pip stand for python?\n",
    "ANS-Pip stand for  preferred installer program."
   ]
  },
  {
   "cell_type": "code",
   "execution_count": null,
   "id": "e7cf6d38-5625-4f2c-b4ef-d2c246d591ba",
   "metadata": {},
   "outputs": [],
   "source": [
    "Q11)Mention a few built-in fucntion in python?\n",
    "ANS-Few built-in function are\n",
    "     print( ) function.\n",
    "     type( ) function.\n",
    "     input( ) function.\n",
    "     abs( ) function.\n",
    "    pow( ) function.\n",
    "    dir( ) function.\n",
    "    sorted( ) function.\n",
    "    max( ) function."
   ]
  },
  {
   "cell_type": "code",
   "execution_count": null,
   "id": "85b41969-6949-4bdb-aa08-ca6af981947b",
   "metadata": {},
   "outputs": [],
   "source": [
    "Q12)What is the maximum possible length of an identifer in python?\n",
    "ANS-An identifier can have a maximum length of 79 characters in Python."
   ]
  },
  {
   "cell_type": "code",
   "execution_count": null,
   "id": "1217af89-cd50-41ce-b68e-092d6f3ebece",
   "metadata": {},
   "outputs": [],
   "source": [
    "Q13)What are the benefits of using Python?\n",
    "ANS-Python is commonly used for developing websites and software, task automation, data analysis, and data visualization.\n",
    "Top reason to learn python\n",
    "1.Date science\n",
    "2.Scientific and mathematical computing\n",
    "3.Web development \n",
    "4.Finance and trading\n",
    "5.System automation and administration\n",
    "5.Computer  graphics\n"
   ]
  },
  {
   "cell_type": "code",
   "execution_count": null,
   "id": "cf487832-4a7d-4893-bc53-a214a91784ae",
   "metadata": {},
   "outputs": [],
   "source": [
    "Q14)How is memory managed in python?\n",
    "ANS-Python uses a portion of the memory for internal use and non-object memory. Another part of the memory is used for Python object such as int, dict, list, etc. CPython contains the object allocator that allocates memory within the object area. The object allocator gets a call every time the new object needs space."
   ]
  },
  {
   "cell_type": "code",
   "execution_count": null,
   "id": "85b6e3e2-a1ae-490c-bc7c-d68b1c2e0a49",
   "metadata": {},
   "outputs": [],
   "source": [
    "Q15)How to install python on window and set path variable ?\n",
    "ANS-Installing Python on Windows and setting the path variable is quite straightforward. \n",
    "First, need to download the latest version of Python . Once the download is complete, find the installer file and double click it to start the installation process. \n",
    "Once the installation is complete, you need to set the environment variables. To do this, go to the Control Panel and navigate to the System and Security section. Select the Advanced system settings. In the window that appears, select Environment Variables. \n",
    "Under the System variables section, select the Path variable and click Edit. In the window that appears, you will be able to add a new path to the variable. Add the folder location of your Python installation. Generally, this is located in C:\\Program Files\\Python.\n",
    "Finally, click OK and close the environment variable window. The Python installation is complete and the path variable is set."
   ]
  },
  {
   "cell_type": "code",
   "execution_count": null,
   "id": "2f8942f8-78d0-4438-a704-ab9cf5bf58e4",
   "metadata": {},
   "outputs": [],
   "source": [
    "Q16)Is identification required in python?\n",
    "ANS-Yes, identification is required in Python when accessing any type of data. Identification is the process of verifying that an individual or entity is who they say they are. This is done by using an identifier, such as a name, email address, or even an IP address, that is associated with the user.\n",
    "\n",
    "In Python, there are several different methods of identification that can be used, such as passwords, two-factor authentication, biometric scans, and more. It is important to use an identification method that is secure and reliable. Python offers a wide range of security measures that can help protect the data and the user's identity.\n",
    "\n"
   ]
  },
  {
   "cell_type": "markdown",
   "id": "07322d18-fba5-45b3-a51c-5219d6db89a3",
   "metadata": {},
   "source": []
  },
  {
   "cell_type": "code",
   "execution_count": null,
   "id": "5a8942d3-9326-4bae-a2c2-b7fec3e47423",
   "metadata": {},
   "outputs": [],
   "source": []
  },
  {
   "cell_type": "raw",
   "id": "3925a134-3fce-4e49-ba72-d48671aa3000",
   "metadata": {},
   "source": []
  },
  {
   "cell_type": "code",
   "execution_count": null,
   "id": "37426eed-7a2a-4ec8-8722-10ab3439a230",
   "metadata": {},
   "outputs": [],
   "source": []
  }
 ],
 "metadata": {
  "kernelspec": {
   "display_name": "Python 3 (ipykernel)",
   "language": "python",
   "name": "python3"
  },
  "language_info": {
   "codemirror_mode": {
    "name": "ipython",
    "version": 3
   },
   "file_extension": ".py",
   "mimetype": "text/x-python",
   "name": "python",
   "nbconvert_exporter": "python",
   "pygments_lexer": "ipython3",
   "version": "3.10.8"
  }
 },
 "nbformat": 4,
 "nbformat_minor": 5
}
