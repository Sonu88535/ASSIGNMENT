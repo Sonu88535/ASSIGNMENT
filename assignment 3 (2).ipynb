{
 "cells": [
  {
   "cell_type": "code",
   "execution_count": 3,
   "id": "f9b8d4d2-1a59-492f-b3a1-f42ccb2ca6df",
   "metadata": {},
   "outputs": [
    {
     "name": "stdout",
     "output_type": "stream",
     "text": [
      "1\n",
      "2\n",
      "3\n",
      "4\n",
      "5\n",
      "6\n",
      "7\n",
      "8\n",
      "9\n",
      "10\n"
     ]
    },
    {
     "name": "stdin",
     "output_type": "stream",
     "text": [
      "What is your input?  sonu\n",
      "What is your input?  vishwakarma\n",
      "What is your input?  quit\n"
     ]
    }
   ],
   "source": [
    "#Explain with an example each when to use a for loop and a while loop\n",
    "# A for loop is used when you want to iterate over a sequence of items and know beforehand how many iterations are required.\n",
    "# For example, if you wanted to print out the numbers from 1 to 10, a for loop can be used:\n",
    "\n",
    "for i in range(1, 11):\n",
    "    print(i)\n",
    "\n",
    "# A while loop is used when you don't know how many iterations are required.\n",
    "# For example, if you wanted to keep asking a user for input until they enter a certain value, a while loop can be used:\n",
    "\n",
    "answer = \"\"\n",
    "while answer != \"quit\":\n",
    "    answer = input(\"What is your input? \")"
   ]
  },
  {
   "cell_type": "code",
   "execution_count": 4,
   "id": "16026bb2-1ca3-4eab-a0db-a9e4e4197304",
   "metadata": {},
   "outputs": [
    {
     "name": "stdout",
     "output_type": "stream",
     "text": [
      "sum of number = 55 product of number = 3628800\n",
      "sum of number = 55 product of number = 3628800\n"
     ]
    }
   ],
   "source": [
    "# Write a python progrsm to prnt the sum and product of the first  natural number using for and a while loop.\n",
    "\n",
    "#using for loop\n",
    "\n",
    "sum_of_number=0\n",
    "product_of_number=1\n",
    "for i in range(1,11):\n",
    "    sum_of_number=sum_of_number+i\n",
    "    product_of_number=product_of_number*i\n",
    "print('sum of number','=',sum_of_number,'product of number','=',product_of_number)\n",
    "\n",
    "\n",
    "#using while loop\n",
    "i=1\n",
    "sum_of_number=0\n",
    "product_of_number=1\n",
    "while i<=10:\n",
    "    sum_of_number=sum_of_number+i\n",
    "    product_of_number=product_of_number*i\n",
    "    i=i+1\n",
    "print('sum of number','=',sum_of_number,'product of number','=',product_of_number)\n",
    "\n",
    "    "
   ]
  },
  {
   "cell_type": "code",
   "execution_count": 5,
   "id": "b1f98103-b53a-429d-ac49-5d03a0c1670d",
   "metadata": {},
   "outputs": [
    {
     "name": "stdin",
     "output_type": "stream",
     "text": [
      "Enter the number of units consumed:  310\n"
     ]
    },
    {
     "name": "stdout",
     "output_type": "stream",
     "text": [
      "The total electricity bill is: Rs 2250.0\n"
     ]
    }
   ],
   "source": [
    "# # #Create a python program to print to compute the electricty bill for a household.\n",
    "# # The per unit charges on rupees are as follows:\n",
    "# #     for the first 100 unit ,the user will be charged Rs 4.5 per unit ,for the next 100 units,the user will be charged Rs 6 per unit, \n",
    "# and for the next 100 unnits , the user will be chargedRs 10 per units ,\n",
    "# #     After 300 units and above the user will be charged Rs 20 per units.\n",
    "\n",
    "units = int(input(\"Enter the number of units consumed: \"))\n",
    "if units <= 100:\n",
    "    bill = units * 4.5\n",
    "elif units <= 200:\n",
    "    bill = 100 * 4.5 + (units - 100) * 6\n",
    "elif units <= 300:\n",
    "    bill = 100 * 4.5 + 100 * 6 + (units - 200) * 10\n",
    "else:\n",
    "    bill = 100 * 4.5 + 100 * 6 + 100 * 10 + (units - 300) * 20\n",
    "\n",
    "print(\"The total electricity bill is: Rs\", bill)\n"
   ]
  },
  {
   "cell_type": "code",
   "execution_count": 65,
   "id": "756b81be-520e-4f56-9f39-acfe5896dda1",
   "metadata": {},
   "outputs": [
    {
     "data": {
      "text/plain": [
       "[8,\n",
       " 64,\n",
       " 125,\n",
       " 216,\n",
       " 512,\n",
       " 1000,\n",
       " 1728,\n",
       " 2744,\n",
       " 3375,\n",
       " 4096,\n",
       " 5832,\n",
       " 8000,\n",
       " 10648,\n",
       " 13824,\n",
       " 15625,\n",
       " 17576,\n",
       " 21952,\n",
       " 27000,\n",
       " 32768,\n",
       " 39304,\n",
       " 42875,\n",
       " 46656,\n",
       " 54872,\n",
       " 64000,\n",
       " 74088,\n",
       " 85184,\n",
       " 91125,\n",
       " 97336,\n",
       " 110592,\n",
       " 125000,\n",
       " 140608,\n",
       " 157464,\n",
       " 166375,\n",
       " 175616,\n",
       " 195112,\n",
       " 216000,\n",
       " 238328,\n",
       " 262144,\n",
       " 274625,\n",
       " 287496,\n",
       " 314432,\n",
       " 343000,\n",
       " 373248,\n",
       " 405224,\n",
       " 421875,\n",
       " 438976,\n",
       " 474552,\n",
       " 512000,\n",
       " 551368,\n",
       " 592704,\n",
       " 614125,\n",
       " 636056,\n",
       " 681472,\n",
       " 729000,\n",
       " 778688,\n",
       " 830584,\n",
       " 857375,\n",
       " 884736,\n",
       " 941192,\n",
       " 1000000]"
      ]
     },
     "execution_count": 65,
     "metadata": {},
     "output_type": "execute_result"
    }
   ],
   "source": [
    "# Create a list of number from 1 to 100 . use for loop and while loop to calculate the cube of the each number  and if the cube \n",
    "# of that number is divisible by 4 or 5 then append that number in a list  and print that list.\n",
    "\n",
    "#using for loop\n",
    "l=[]\n",
    "s=[]\n",
    "for i in range(1,101):\n",
    "    l.append(i)\n",
    "for a in l:\n",
    "    \n",
    "     z=a*a*a\n",
    "     if z%4==0 or z%5==0:\n",
    "    \n",
    "        s.append(z)\n",
    "s\n",
    "\n",
    "\n",
    "#using while loop\n",
    "f=[]\n",
    "G=[]\n",
    "n=1\n",
    "while n<=100:\n",
    "    f.append(n)\n",
    "    x=n**3 #(n*n*n)\n",
    "    if x%4==0 or x%5==0:\n",
    "        G.append(x)\n",
    "    n=n+1\n",
    "G\n",
    "\n",
    "    \n",
    "    "
   ]
  },
  {
   "cell_type": "code",
   "execution_count": 59,
   "id": "8c02a99b-dbdc-426d-9da7-ce5f6f12e888",
   "metadata": {},
   "outputs": [
    {
     "data": {
      "text/plain": [
       "[8,\n",
       " 64,\n",
       " 125,\n",
       " 216,\n",
       " 512,\n",
       " 1000,\n",
       " 1728,\n",
       " 2744,\n",
       " 3375,\n",
       " 4096,\n",
       " 5832,\n",
       " 8000,\n",
       " 10648,\n",
       " 13824,\n",
       " 15625,\n",
       " 17576,\n",
       " 21952,\n",
       " 27000,\n",
       " 32768,\n",
       " 39304,\n",
       " 42875,\n",
       " 46656,\n",
       " 54872,\n",
       " 64000,\n",
       " 74088,\n",
       " 85184,\n",
       " 91125,\n",
       " 97336,\n",
       " 110592,\n",
       " 125000,\n",
       " 140608,\n",
       " 157464,\n",
       " 166375,\n",
       " 175616,\n",
       " 195112,\n",
       " 216000,\n",
       " 238328,\n",
       " 262144,\n",
       " 274625,\n",
       " 287496,\n",
       " 314432,\n",
       " 343000,\n",
       " 373248,\n",
       " 405224,\n",
       " 421875,\n",
       " 438976,\n",
       " 474552,\n",
       " 512000,\n",
       " 551368,\n",
       " 592704,\n",
       " 614125,\n",
       " 636056,\n",
       " 681472,\n",
       " 729000,\n",
       " 778688,\n",
       " 830584,\n",
       " 857375,\n",
       " 884736,\n",
       " 941192,\n",
       " 1000000]"
      ]
     },
     "execution_count": 59,
     "metadata": {},
     "output_type": "execute_result"
    }
   ],
   "source": [
    "s"
   ]
  },
  {
   "cell_type": "code",
   "execution_count": 60,
   "id": "4bf6c37d-1245-47ed-8dc6-9896566e085e",
   "metadata": {},
   "outputs": [
    {
     "data": {
      "text/plain": [
       "[8,\n",
       " 64,\n",
       " 125,\n",
       " 216,\n",
       " 512,\n",
       " 1000,\n",
       " 1728,\n",
       " 2744,\n",
       " 3375,\n",
       " 4096,\n",
       " 5832,\n",
       " 8000,\n",
       " 10648,\n",
       " 13824,\n",
       " 15625,\n",
       " 17576,\n",
       " 21952,\n",
       " 27000,\n",
       " 32768,\n",
       " 39304,\n",
       " 42875,\n",
       " 46656,\n",
       " 54872,\n",
       " 64000,\n",
       " 74088,\n",
       " 85184,\n",
       " 91125,\n",
       " 97336,\n",
       " 110592,\n",
       " 125000,\n",
       " 140608,\n",
       " 157464,\n",
       " 166375,\n",
       " 175616,\n",
       " 195112,\n",
       " 216000,\n",
       " 238328,\n",
       " 262144,\n",
       " 274625,\n",
       " 287496,\n",
       " 314432,\n",
       " 343000,\n",
       " 373248,\n",
       " 405224,\n",
       " 421875,\n",
       " 438976,\n",
       " 474552,\n",
       " 512000,\n",
       " 551368,\n",
       " 592704,\n",
       " 614125,\n",
       " 636056,\n",
       " 681472,\n",
       " 729000,\n",
       " 778688,\n",
       " 830584,\n",
       " 857375,\n",
       " 884736,\n",
       " 941192,\n",
       " 1000000]"
      ]
     },
     "execution_count": 60,
     "metadata": {},
     "output_type": "execute_result"
    }
   ],
   "source": [
    "G"
   ]
  },
  {
   "cell_type": "code",
   "execution_count": 61,
   "id": "f5752348-d90a-49d0-a104-e68b12587831",
   "metadata": {},
   "outputs": [
    {
     "name": "stdout",
     "output_type": "stream",
     "text": [
      "The number of vowels in the string is: 12\n"
     ]
    }
   ],
   "source": [
    "# #write a program to filter count vowels in the below given string.\n",
    "# string=\"I want to become a data scientist\"\n",
    "\n",
    "\n",
    "string = \"I want to become a data scientist\"\n",
    "vowels = \"aeiouAEIOU\"\n",
    "count = 0\n",
    "for char in string:\n",
    "    if char in vowels:\n",
    "        count = count+ 1\n",
    "\n",
    "print(\"The number of vowels in the string is:\", count)\n"
   ]
  },
  {
   "cell_type": "code",
   "execution_count": null,
   "id": "aab1e58d-b72d-49a9-acf2-9cc449f83582",
   "metadata": {},
   "outputs": [],
   "source": []
  }
 ],
 "metadata": {
  "kernelspec": {
   "display_name": "Python 3 (ipykernel)",
   "language": "python",
   "name": "python3"
  },
  "language_info": {
   "codemirror_mode": {
    "name": "ipython",
    "version": 3
   },
   "file_extension": ".py",
   "mimetype": "text/x-python",
   "name": "python",
   "nbconvert_exporter": "python",
   "pygments_lexer": "ipython3",
   "version": "3.10.8"
  }
 },
 "nbformat": 4,
 "nbformat_minor": 5
}
